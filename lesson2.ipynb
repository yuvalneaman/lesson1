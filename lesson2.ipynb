{
 "cells": [
  {
   "cell_type": "code",
   "execution_count": 2,
   "id": "46936be0-d79f-4f33-acd0-5e044d3267bb",
   "metadata": {},
   "outputs": [],
   "source": [
    "import pandas as pd"
   ]
  },
  {
   "cell_type": "code",
   "execution_count": 8,
   "id": "61cda11d-4e49-4d6d-b8e6-54ac1108b638",
   "metadata": {},
   "outputs": [],
   "source": [
    "df_results = pd.read_csv(\"C:/Users/RetailAdmin/Desktop/PYTHON/pandas/lesson1/survey_results_public.csv\")\n",
    "df_schema = pd.read_csv(\"C:/Users/RetailAdmin/Desktop/PYTHON/pandas/lesson1/survey_results_schema.csv\")"
   ]
  },
  {
   "cell_type": "code",
   "execution_count": null,
   "id": "32cd996d-81b5-4bfc-9432-d22ee32d41d5",
   "metadata": {},
   "outputs": [],
   "source": [
    "look i changeds something\n"
   ]
  },
  {
   "cell_type": "code",
   "execution_count": null,
   "id": "023b20d4",
   "metadata": {},
   "outputs": [],
   "source": []
  }
 ],
 "metadata": {
  "kernelspec": {
   "display_name": "Python 3 (ipykernel)",
   "language": "python",
   "name": "python3"
  },
  "language_info": {
   "codemirror_mode": {
    "name": "ipython",
    "version": 3
   },
   "file_extension": ".py",
   "mimetype": "text/x-python",
   "name": "python",
   "nbconvert_exporter": "python",
   "pygments_lexer": "ipython3",
   "version": "3.12.1"
  }
 },
 "nbformat": 4,
 "nbformat_minor": 5
}
